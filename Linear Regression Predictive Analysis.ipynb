{
 "cells": [
  {
   "cell_type": "code",
   "execution_count": 2,
   "id": "ace265ca-107c-4c4a-b7bc-3c07a999d776",
   "metadata": {},
   "outputs": [],
   "source": [
    "import numpy as np\n",
    "import pandas as pd\n",
    "import matplotlib.pyplot as plt\n",
    "from sklearn.model_selection import train_test_split\n",
    "from sklearn.linear_model import LinearRegression\n",
    "from sklearn.metrics import mean_squared_error, r2_score\n",
    "from sklearn.datasets import fetch_california_housing\n"
   ]
  },
  {
   "cell_type": "code",
   "execution_count": 5,
   "id": "e248429e-d804-43d1-ac61-71ca6f8167c8",
   "metadata": {},
   "outputs": [],
   "source": [
    "data = fetch_california_housing(as_frame=True)\n",
    "df = data.frame"
   ]
  },
  {
   "cell_type": "code",
   "execution_count": 6,
   "id": "3535bf75-b990-4b19-9d16-827d5e3ec5ce",
   "metadata": {},
   "outputs": [
    {
     "name": "stdout",
     "output_type": "stream",
     "text": [
      "<bound method NDFrame.head of        MedInc  HouseAge  AveRooms  AveBedrms  Population  AveOccup  Latitude  \\\n",
      "0      8.3252      41.0  6.984127   1.023810       322.0  2.555556     37.88   \n",
      "1      8.3014      21.0  6.238137   0.971880      2401.0  2.109842     37.86   \n",
      "2      7.2574      52.0  8.288136   1.073446       496.0  2.802260     37.85   \n",
      "3      5.6431      52.0  5.817352   1.073059       558.0  2.547945     37.85   \n",
      "4      3.8462      52.0  6.281853   1.081081       565.0  2.181467     37.85   \n",
      "...       ...       ...       ...        ...         ...       ...       ...   \n",
      "20635  1.5603      25.0  5.045455   1.133333       845.0  2.560606     39.48   \n",
      "20636  2.5568      18.0  6.114035   1.315789       356.0  3.122807     39.49   \n",
      "20637  1.7000      17.0  5.205543   1.120092      1007.0  2.325635     39.43   \n",
      "20638  1.8672      18.0  5.329513   1.171920       741.0  2.123209     39.43   \n",
      "20639  2.3886      16.0  5.254717   1.162264      1387.0  2.616981     39.37   \n",
      "\n",
      "       Longitude  MedHouseVal  \n",
      "0        -122.23        4.526  \n",
      "1        -122.22        3.585  \n",
      "2        -122.24        3.521  \n",
      "3        -122.25        3.413  \n",
      "4        -122.25        3.422  \n",
      "...          ...          ...  \n",
      "20635    -121.09        0.781  \n",
      "20636    -121.21        0.771  \n",
      "20637    -121.22        0.923  \n",
      "20638    -121.32        0.847  \n",
      "20639    -121.24        0.894  \n",
      "\n",
      "[20640 rows x 9 columns]>\n"
     ]
    }
   ],
   "source": [
    "print(df.head)\n"
   ]
  },
  {
   "cell_type": "code",
   "execution_count": 8,
   "id": "f3a45b52-3628-4c38-a28e-58a8c9421ed5",
   "metadata": {},
   "outputs": [],
   "source": [
    "x = df[['AveRooms']]\n",
    "y = df['MedInc']"
   ]
  },
  {
   "cell_type": "code",
   "execution_count": 9,
   "id": "57c3992f-5032-40af-94e3-c6a12022c563",
   "metadata": {},
   "outputs": [
    {
     "name": "stdout",
     "output_type": "stream",
     "text": [
      "       AveRooms\n",
      "0      6.984127\n",
      "1      6.238137\n",
      "2      8.288136\n",
      "3      5.817352\n",
      "4      6.281853\n",
      "...         ...\n",
      "20635  5.045455\n",
      "20636  6.114035\n",
      "20637  5.205543\n",
      "20638  5.329513\n",
      "20639  5.254717\n",
      "\n",
      "[20640 rows x 1 columns]\n"
     ]
    }
   ],
   "source": [
    "print(x)"
   ]
  },
  {
   "cell_type": "code",
   "execution_count": 10,
   "id": "e62dcc98-e3bc-4db3-8ca5-f97809ace7ed",
   "metadata": {},
   "outputs": [
    {
     "name": "stdout",
     "output_type": "stream",
     "text": [
      "0        8.3252\n",
      "1        8.3014\n",
      "2        7.2574\n",
      "3        5.6431\n",
      "4        3.8462\n",
      "          ...  \n",
      "20635    1.5603\n",
      "20636    2.5568\n",
      "20637    1.7000\n",
      "20638    1.8672\n",
      "20639    2.3886\n",
      "Name: MedInc, Length: 20640, dtype: float64\n"
     ]
    }
   ],
   "source": [
    "print(y)\n"
   ]
  },
  {
   "cell_type": "code",
   "execution_count": 11,
   "id": "d6b3513c-8a41-432e-a719-a45aa149723a",
   "metadata": {},
   "outputs": [],
   "source": [
    "x_train, y_train, x_test, y_test = train_test_split(x, y, test_size=0.2, random_state=7979)"
   ]
  },
  {
   "cell_type": "code",
   "execution_count": 12,
   "id": "8efebf3d-bf77-4017-8f2c-9932e74b4542",
   "metadata": {},
   "outputs": [
    {
     "name": "stdout",
     "output_type": "stream",
     "text": [
      "Training data points: 16512\n",
      "Testing data points: 16512\n"
     ]
    }
   ],
   "source": [
    "print(f\"Training data points: {len(x_train)}\")\n",
    "print(f\"Testing data points: {len(x_test)}\")"
   ]
  },
  {
   "cell_type": "code",
   "execution_count": null,
   "id": "cc5f0483-b17d-4ab3-8a60-25b5aa00a5e9",
   "metadata": {},
   "outputs": [],
   "source": []
  }
 ],
 "metadata": {
  "kernelspec": {
   "display_name": "Python 3 (ipykernel)",
   "language": "python",
   "name": "python3"
  },
  "language_info": {
   "codemirror_mode": {
    "name": "ipython",
    "version": 3
   },
   "file_extension": ".py",
   "mimetype": "text/x-python",
   "name": "python",
   "nbconvert_exporter": "python",
   "pygments_lexer": "ipython3",
   "version": "3.13.1"
  }
 },
 "nbformat": 4,
 "nbformat_minor": 5
}
